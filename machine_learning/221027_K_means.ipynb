{
 "cells": [
  {
   "cell_type": "code",
   "execution_count": 1,
   "id": "4a058aa2",
   "metadata": {},
   "outputs": [],
   "source": [
    "# 비지도 학습(unsupervised learning) - 예측대상이 없다.\n",
    "\n",
    "# - 분류분석의 label을 위한 전처리 작업으로 사용..\n",
    "# - 예시\n",
    "#   고객 - 고객(시장) 세그먼트 - 고객 그룹별 맞춤 마케팅...\n",
    "#   지역 - 영업지역을 n개의 영업구역으로 나누고자 할 때, 유사한 지역끼리 묶는다\n",
    "#   군복 - 2차세계 대전 시 기성복 군복을 생산.. 사람마다 치수가 다름.. 군인의 치수를 몇 개의 그룹으로 묶어서\n",
    "\n",
    "# k_means clustering\n",
    "# 군집분석의 가장 대표적인 알고리즘.\n",
    "\n",
    "# 1. n 개의 군집을 설정 (n개 - hyper parameter)\n",
    "# 2. 데이터 공간상에 random하게 n개의 점(중심점)을 찍는다\n",
    "# 3. 모든 데이터를 중심점과의 거리를 계산한다..\n",
    "# 4. 모든 데이터를 거리가 가까운 중심점으로 할당함.. => n개의 cluster가 생성\n",
    "# 5. 중심점을 cluster의 중앙으로 이동\n",
    "# 6.  3 ~ 5을 계속 반복\n",
    "# 7. 더이상 중심점의 이동이 없을 때, cluster가 완성.."
   ]
  },
  {
   "cell_type": "code",
   "execution_count": null,
   "id": "bb1fe633",
   "metadata": {},
   "outputs": [],
   "source": []
  },
  {
   "cell_type": "code",
   "execution_count": 2,
   "id": "bd7b4340",
   "metadata": {},
   "outputs": [],
   "source": [
    "import pandas as pd\n",
    "import numpy as np\n",
    "import matplotlib.pyplot as plt\n",
    "import seaborn as sns"
   ]
  },
  {
   "cell_type": "code",
   "execution_count": 3,
   "id": "6905c4c3",
   "metadata": {},
   "outputs": [],
   "source": [
    "from sklearn.datasets import make_blobs \n",
    "# make_blobs : 가상의 군집데이터를 생성해주는 함수.."
   ]
  },
  {
   "cell_type": "code",
   "execution_count": 67,
   "id": "8251f8a5",
   "metadata": {},
   "outputs": [],
   "source": [
    "data  = make_blobs(n_samples=200, n_features=2, centers=4, cluster_std=1.8, random_state=111)\n",
    "\n",
    "# n_samples : 데이터수\n",
    "# n_features : 몇 차원데이터 (2차원 데이터)\n",
    "# centers : 군집의 수\n",
    "# cluster_std : 군집의 뭉침과 흩어짐 정도..\n",
    "# random_state : 동일한 데이터 출력을 위한 seed값"
   ]
  },
  {
   "cell_type": "code",
   "execution_count": 68,
   "id": "4ce9cbf1",
   "metadata": {
    "collapsed": true
   },
   "outputs": [
    {
     "data": {
      "text/plain": [
       "array([[-13.35817889,  -3.08278385],\n",
       "       [ -9.61954066,  -3.72554907],\n",
       "       [ -5.83869526,   6.55875784],\n",
       "       [  1.95922856,  -7.27192061],\n",
       "       [ -3.86442912,  -7.83818177],\n",
       "       [ -7.3029341 ,  -0.34989648],\n",
       "       [  1.68746526,  -2.83298451],\n",
       "       [ -2.8142191 ,  -7.16567511],\n",
       "       [-10.55851155,  -4.2430688 ],\n",
       "       [ -1.42145258,  -7.1181325 ],\n",
       "       [ -6.47660457,  -5.07458931],\n",
       "       [ -1.9694693 ,   7.5666111 ],\n",
       "       [  0.07927139,  -4.76276297],\n",
       "       [ -0.14409416,   4.67055983],\n",
       "       [ -5.50043631,  -6.02407876],\n",
       "       [ -9.44838222,  -4.00099599],\n",
       "       [ -9.02357439,   0.21024293],\n",
       "       [ -1.43479798,   6.0981412 ],\n",
       "       [ -9.70712732,  -1.97468485],\n",
       "       [  1.07775548,  -2.74992412],\n",
       "       [ -5.82378794,  -3.42377943],\n",
       "       [ -9.48287502,  -3.72384525],\n",
       "       [ -2.47195203,  -8.64004666],\n",
       "       [ -0.54889365,  -8.24521777],\n",
       "       [ -4.43552284,  -7.07324341],\n",
       "       [  2.67210837,  -7.96713532],\n",
       "       [  0.19736678,   6.61187537],\n",
       "       [ -6.734419  ,  -9.76711728],\n",
       "       [ -4.22198094,  -4.12348326],\n",
       "       [-10.43909883,  -0.30844297],\n",
       "       [ -2.51565275,   3.63332475],\n",
       "       [  0.57131649,  -9.59756197],\n",
       "       [  0.54188692,  -5.64449461],\n",
       "       [-10.85670876,  -1.57919421],\n",
       "       [ -0.96455597,   4.36988869],\n",
       "       [  4.5831635 ,  -7.70514612],\n",
       "       [ -3.3214358 ,  -6.83935997],\n",
       "       [ -5.34170812,  -5.94403735],\n",
       "       [ -9.39896155,  -1.17686787],\n",
       "       [  0.11102182,   3.19039344],\n",
       "       [  3.12900892,  -5.85419495],\n",
       "       [  3.46101786,  -8.51265241],\n",
       "       [ -5.35564374,  -6.63673353],\n",
       "       [  1.44316158, -10.58582165],\n",
       "       [  0.37635852,   8.43155576],\n",
       "       [  1.64147926,  -7.16945375],\n",
       "       [-13.31705909,   0.29813026],\n",
       "       [-10.32879143,  -1.55683777],\n",
       "       [  3.54537763,  -4.03960321],\n",
       "       [  6.91829938,  -6.72348422],\n",
       "       [ -7.7974225 ,  -4.09631627],\n",
       "       [ -0.87478083,   4.52049401],\n",
       "       [ -0.22613273,  -5.81641214],\n",
       "       [ -9.66855731,  -3.50105725],\n",
       "       [ -4.24077374,  -7.17814107],\n",
       "       [  5.99258206,  -8.93097087],\n",
       "       [ -0.10302326,  -6.29801591],\n",
       "       [ -4.00366116,   5.3684025 ],\n",
       "       [ -8.60848187,  -5.78164879],\n",
       "       [ -5.92734188,  -6.87521971],\n",
       "       [ -8.75043398,   0.07176284],\n",
       "       [ -1.49734809,   7.69899726],\n",
       "       [ -2.03424692,   5.95532   ],\n",
       "       [ -5.20090954,  -4.83402487],\n",
       "       [-11.4392324 ,  -3.61624903],\n",
       "       [ -3.70189228,  -6.23699252],\n",
       "       [  3.32222367,  -6.23087106],\n",
       "       [ -5.19388557,  -7.69352712],\n",
       "       [  0.35268833,  -6.84740945],\n",
       "       [-13.12581042,   0.20066384],\n",
       "       [ -7.38484877,  -3.37845471],\n",
       "       [ -8.17493824,  -6.26057007],\n",
       "       [ -3.13558433,   5.3902385 ],\n",
       "       [ -0.44580057,   4.89872455],\n",
       "       [ -4.19461768,  -8.05145919],\n",
       "       [ -3.32774052,   6.53201388],\n",
       "       [  0.39306232,  -6.78238016],\n",
       "       [ -0.92508295,   9.17443671],\n",
       "       [ -1.36439789,   6.91011311],\n",
       "       [ -1.81189073,   5.47292607],\n",
       "       [ -8.16746365,  -8.58103146],\n",
       "       [-12.73163231,   2.80165971],\n",
       "       [ -2.97907645,   6.30610893],\n",
       "       [ -0.8955156 ,  -8.05709089],\n",
       "       [ -3.86623285,  -7.09867696],\n",
       "       [ -6.68967857,  -1.07569211],\n",
       "       [ -1.59047025,   3.71915448],\n",
       "       [  3.27047324,  -4.9708486 ],\n",
       "       [-10.72645144,  -3.67371375],\n",
       "       [ -6.22380798,  -6.67524204],\n",
       "       [  0.92717718,   5.46496447],\n",
       "       [  3.53804   ,  -4.56140919],\n",
       "       [ -4.92749731,   6.68172249],\n",
       "       [ -7.77002873,  -4.81271406],\n",
       "       [ -8.05631435,   0.11031726],\n",
       "       [  1.64507348,  -3.0852997 ],\n",
       "       [-10.20656397,  -2.56759884],\n",
       "       [  1.8984462 ,  -7.71685407],\n",
       "       [ -0.92012869,   5.81104523],\n",
       "       [ -1.73086477,  -8.00690595],\n",
       "       [ -2.06541687,   4.56452999],\n",
       "       [ -5.11347856,  -6.40280967],\n",
       "       [  2.67341295,  -7.68046138],\n",
       "       [  0.52903553,  -6.81782424],\n",
       "       [ -8.62335597,  -3.45031037],\n",
       "       [ -2.72465981,   5.15398201],\n",
       "       [ -0.7614094 ,  -5.74972035],\n",
       "       [ -7.11318038,  -6.67700464],\n",
       "       [ -6.71595459,  -3.40442399],\n",
       "       [ -1.60323869,  -5.77905083],\n",
       "       [ -5.22588074,  -7.00303028],\n",
       "       [  1.50885555,  -6.74091058],\n",
       "       [  0.12998268,   7.76176538],\n",
       "       [ -6.85871614,  -7.33463582],\n",
       "       [ -6.85915181,  -7.94564729],\n",
       "       [ -9.90722112,  -2.56805236],\n",
       "       [-11.77664284,  -2.60461096],\n",
       "       [ -3.87609285,  -6.52753727],\n",
       "       [ -0.69684624,  -8.78700269],\n",
       "       [ -8.9550285 ,  -1.92874913],\n",
       "       [-11.48258662,  -3.16965733],\n",
       "       [ -3.18229666,  -9.81619392],\n",
       "       [  2.47134837,   6.86754372],\n",
       "       [ -6.53795706,  -1.24948625],\n",
       "       [ -2.60520621,   1.36824574],\n",
       "       [ -5.44042277,  -4.52949464],\n",
       "       [ -0.46892298,   3.5566713 ],\n",
       "       [ -7.66902958,  -2.8682933 ],\n",
       "       [  1.68455271,  -2.3081634 ],\n",
       "       [  1.7412369 ,  -5.35568505],\n",
       "       [ -3.93710562,  -9.54886113],\n",
       "       [ -1.94841351,  -6.58491376],\n",
       "       [-11.02180774,  -1.76057506],\n",
       "       [  0.91946201,  -8.74969671],\n",
       "       [ -1.69617164,  10.23373943],\n",
       "       [  2.14438752,  -4.60256746],\n",
       "       [ -1.69957949,   4.83870267],\n",
       "       [  1.00614916,   4.56806134],\n",
       "       [  1.46819664,  -7.38377314],\n",
       "       [ -3.04573395,   4.89444596],\n",
       "       [-10.16849867,  -2.36791314],\n",
       "       [ -1.00921798,   5.54047645],\n",
       "       [ -8.09006815,  -2.39882024],\n",
       "       [ -0.60803148,  -7.7185389 ],\n",
       "       [  3.21203321,  -6.69877585],\n",
       "       [ -6.1084583 ,  -8.56710547],\n",
       "       [  1.08395978,   6.08889454],\n",
       "       [-12.80428528,  -7.27390347],\n",
       "       [  3.18135073,  -6.65622647],\n",
       "       [  4.55289138,  -6.0498293 ],\n",
       "       [ -7.41854841,  -9.15189107],\n",
       "       [ -5.48166737,   3.44988126],\n",
       "       [  2.87375002,  -6.87376664],\n",
       "       [ -7.41845664,   1.23233841],\n",
       "       [ -8.92778066,  -4.86756982],\n",
       "       [  2.72592709,  -5.49902755],\n",
       "       [ -2.15945842,   6.31863744],\n",
       "       [ -7.70125541,  -0.86473204],\n",
       "       [  1.8834438 ,   5.9003553 ],\n",
       "       [ -1.57080335,   2.39380123],\n",
       "       [-11.78073782,  -2.63475136],\n",
       "       [-10.06828983,  -1.20752183],\n",
       "       [ -4.90821141,  -6.55844624],\n",
       "       [ -3.39006395,  -6.3599113 ],\n",
       "       [ -1.65870307,  -7.63706043],\n",
       "       [  3.34051587,  -7.67008489],\n",
       "       [ -2.62784845,  -3.74470409],\n",
       "       [ -0.83370023,  -6.37013432],\n",
       "       [ -3.73560513,   6.02918143],\n",
       "       [-11.69731977,   2.05306064],\n",
       "       [ -3.42319263,  -4.53350968],\n",
       "       [ -2.43785896,   4.95386993],\n",
       "       [  0.31989708,   4.0992937 ],\n",
       "       [ -3.5551119 ,   1.93761888],\n",
       "       [ -4.78080448,  -8.27299018],\n",
       "       [ -0.58207702,   9.81670336],\n",
       "       [ -4.66804199,   7.6290909 ],\n",
       "       [ -3.21465589,  -7.27364193],\n",
       "       [ -4.39118805,  -3.28345869],\n",
       "       [  0.46141104,   6.21509116],\n",
       "       [  5.03507917,  -7.78224223],\n",
       "       [-11.0865765 ,   0.24702087],\n",
       "       [ -4.21266804,  -6.37302317],\n",
       "       [  1.57886386,  -8.47249   ],\n",
       "       [ -0.70214525,  -7.71310758],\n",
       "       [ -2.97542632,  -5.9900507 ],\n",
       "       [ -5.30363353,  -8.9404439 ],\n",
       "       [ -0.62214358,   5.68512207],\n",
       "       [ -0.3496497 ,  -5.22593932],\n",
       "       [  2.43009845,  -6.67892163],\n",
       "       [ -5.58327089,  -7.30497047],\n",
       "       [ -2.05199619,  -7.58412042],\n",
       "       [  2.5085291 ,  -5.85374122],\n",
       "       [  2.69744237,  -5.12187469],\n",
       "       [  2.86846745,  -7.11582889],\n",
       "       [ -1.3331383 ,   5.00065786],\n",
       "       [-11.25535845,   1.90554708],\n",
       "       [ -4.19937273,  -7.64771372],\n",
       "       [-13.0839867 ,  -2.17005714],\n",
       "       [  0.36396442,   7.64596682]])"
      ]
     },
     "execution_count": 68,
     "metadata": {},
     "output_type": "execute_result"
    }
   ],
   "source": [
    "data[0]  # 2차원 데이터"
   ]
  },
  {
   "cell_type": "code",
   "execution_count": 69,
   "id": "a092d76b",
   "metadata": {
    "collapsed": true
   },
   "outputs": [
    {
     "data": {
      "text/plain": [
       "array([3, 3, 1, 0, 2, 3, 0, 2, 3, 2, 2, 1, 0, 1, 2, 3, 3, 1, 3, 0, 3, 3,\n",
       "       2, 2, 2, 0, 1, 2, 2, 3, 1, 0, 0, 3, 1, 0, 2, 2, 3, 1, 0, 0, 2, 0,\n",
       "       1, 0, 3, 3, 0, 0, 3, 1, 0, 3, 2, 0, 0, 1, 3, 2, 3, 1, 1, 2, 3, 2,\n",
       "       0, 2, 0, 3, 3, 3, 1, 1, 2, 1, 0, 1, 1, 1, 2, 3, 1, 0, 2, 3, 1, 0,\n",
       "       3, 2, 1, 0, 1, 3, 3, 0, 3, 0, 1, 2, 1, 2, 0, 0, 3, 1, 0, 2, 3, 0,\n",
       "       2, 0, 1, 2, 2, 3, 3, 2, 2, 3, 3, 2, 1, 3, 1, 2, 1, 3, 0, 0, 2, 2,\n",
       "       3, 0, 1, 0, 1, 1, 0, 1, 3, 1, 3, 0, 0, 2, 1, 3, 0, 0, 2, 1, 0, 3,\n",
       "       3, 0, 1, 3, 1, 1, 3, 3, 2, 2, 2, 0, 2, 2, 1, 3, 2, 1, 1, 1, 2, 1,\n",
       "       1, 2, 3, 1, 0, 3, 2, 0, 0, 2, 2, 1, 0, 0, 2, 2, 0, 0, 0, 1, 3, 2,\n",
       "       3, 1])"
      ]
     },
     "execution_count": 69,
     "metadata": {},
     "output_type": "execute_result"
    }
   ],
   "source": [
    "data[1]  # 각 데이터의 클러스터 번호 - 인위적으로 생성된 데이터이므로 cluster번호를 붙여줌.."
   ]
  },
  {
   "cell_type": "code",
   "execution_count": null,
   "id": "2641bf33",
   "metadata": {},
   "outputs": [],
   "source": []
  },
  {
   "cell_type": "code",
   "execution_count": 70,
   "id": "e51cc687",
   "metadata": {},
   "outputs": [
    {
     "data": {
      "text/plain": [
       "200"
      ]
     },
     "execution_count": 70,
     "metadata": {},
     "output_type": "execute_result"
    }
   ],
   "source": [
    "len(data[0])"
   ]
  },
  {
   "cell_type": "code",
   "execution_count": 71,
   "id": "ba9f9c6f",
   "metadata": {},
   "outputs": [
    {
     "data": {
      "text/plain": [
       "array([[-13.35817889,  -3.08278385],\n",
       "       [ -9.61954066,  -3.72554907],\n",
       "       [ -5.83869526,   6.55875784],\n",
       "       [  1.95922856,  -7.27192061],\n",
       "       [ -3.86442912,  -7.83818177]])"
      ]
     },
     "execution_count": 71,
     "metadata": {},
     "output_type": "execute_result"
    }
   ],
   "source": [
    "data[0][:5]"
   ]
  },
  {
   "cell_type": "code",
   "execution_count": 72,
   "id": "60f10f21",
   "metadata": {},
   "outputs": [
    {
     "data": {
      "text/plain": [
       "array([-13.35817889,  -9.61954066,  -5.83869526,   1.95922856,\n",
       "        -3.86442912])"
      ]
     },
     "execution_count": 72,
     "metadata": {},
     "output_type": "execute_result"
    }
   ],
   "source": [
    "data[0][:, 0][:5]"
   ]
  },
  {
   "cell_type": "code",
   "execution_count": 73,
   "id": "6ee6fac9",
   "metadata": {},
   "outputs": [
    {
     "data": {
      "text/plain": [
       "array([-3.08278385, -3.72554907,  6.55875784, -7.27192061, -7.83818177])"
      ]
     },
     "execution_count": 73,
     "metadata": {},
     "output_type": "execute_result"
    }
   ],
   "source": [
    "data[0][:, 1][:5]"
   ]
  },
  {
   "cell_type": "code",
   "execution_count": 74,
   "id": "38820da8",
   "metadata": {},
   "outputs": [],
   "source": [
    "x = data[0][:, 0]\n",
    "y = data[0][:, 1]"
   ]
  },
  {
   "cell_type": "code",
   "execution_count": 76,
   "id": "a6c7126e",
   "metadata": {},
   "outputs": [
    {
     "data": {
      "text/plain": [
       "<matplotlib.collections.PathCollection at 0x27965ef5f70>"
      ]
     },
     "execution_count": 76,
     "metadata": {},
     "output_type": "execute_result"
    },
    {
     "data": {
      "image/png": "[encoded data removed]",
      "text/plain": [
       "<Figure size 300x300 with 1 Axes>"
      ]
     },
     "metadata": {},
     "output_type": "display_data"
    }
   ],
   "source": [
    "plt.figure(figsize=(3,3))\n",
    "plt.scatter(x,y, c=data[1], cmap='rainbow')"
   ]
  },
  {
   "cell_type": "code",
   "execution_count": null,
   "id": "dc755c84",
   "metadata": {},
   "outputs": [],
   "source": []
  },
  {
   "cell_type": "code",
   "execution_count": 77,
   "id": "0cc3707a",
   "metadata": {},
   "outputs": [],
   "source": [
    "from sklearn.cluster import KMeans"
   ]
  },
  {
   "cell_type": "code",
   "execution_count": 102,
   "id": "99cfece9",
   "metadata": {},
   "outputs": [],
   "source": [
    "km = KMeans(n_clusters= 4) # n_clusters : hyper parmeter"
   ]
  },
  {
   "cell_type": "code",
   "execution_count": 103,
   "id": "6094fb16",
   "metadata": {},
   "outputs": [
    {
     "name": "stderr",
     "output_type": "stream",
     "text": [
      "C:\\Users\\YONSAI\\anaconda3\\lib\\site-packages\\sklearn\\cluster\\_kmeans.py:1334: UserWarning: KMeans is known to have a memory leak on Windows with MKL, when there are less chunks than available threads. You can avoid it by setting the environment variable OMP_NUM_THREADS=1.\n",
      "  warnings.warn(\n"
     ]
    },
    {
     "data": {
      "text/html": [
       "<style>#sk-container-id-5 {color: black;background-color: white;}#sk-container-id-5 pre{padding: 0;}#sk-container-id-5 div.sk-toggleable {background-color: white;}#sk-container-id-5 label.sk-toggleable__label {cursor: pointer;display: block;width: 100%;margin-bottom: 0;padding: 0.3em;box-sizing: border-box;text-align: center;}#sk-container-id-5 label.sk-toggleable__label-arrow:before {content: \"▸\";float: left;margin-right: 0.25em;color: #696969;}#sk-container-id-5 label.sk-toggleable__label-arrow:hover:before {color: black;}#sk-container-id-5 div.sk-estimator:hover label.sk-toggleable__label-arrow:before {color: black;}#sk-container-id-5 div.sk-toggleable__content {max-height: 0;max-width: 0;overflow: hidden;text-align: left;background-color: #f0f8ff;}#sk-container-id-5 div.sk-toggleable__content pre {margin: 0.2em;color: black;border-radius: 0.25em;background-color: #f0f8ff;}#sk-container-id-5 input.sk-toggleable__control:checked~div.sk-toggleable__content {max-height: 200px;max-width: 100%;overflow: auto;}#sk-container-id-5 input.sk-toggleable__control:checked~label.sk-toggleable__label-arrow:before {content: \"▾\";}#sk-container-id-5 div.sk-estimator input.sk-toggleable__control:checked~label.sk-toggleable__label {background-color: #d4ebff;}#sk-container-id-5 div.sk-label input.sk-toggleable__control:checked~label.sk-toggleable__label {background-color: #d4ebff;}#sk-container-id-5 input.sk-hidden--visually {border: 0;clip: rect(1px 1px 1px 1px);clip: rect(1px, 1px, 1px, 1px);height: 1px;margin: -1px;overflow: hidden;padding: 0;position: absolute;width: 1px;}#sk-container-id-5 div.sk-estimator {font-family: monospace;background-color: #f0f8ff;border: 1px dotted black;border-radius: 0.25em;box-sizing: border-box;margin-bottom: 0.5em;}#sk-container-id-5 div.sk-estimator:hover {background-color: #d4ebff;}#sk-container-id-5 div.sk-parallel-item::after {content: \"\";width: 100%;border-bottom: 1px solid gray;flex-grow: 1;}#sk-container-id-5 div.sk-label:hover label.sk-toggleable__label {background-color: #d4ebff;}#sk-container-id-5 div.sk-serial::before {content: \"\";position: absolute;border-left: 1px solid gray;box-sizing: border-box;top: 0;bottom: 0;left: 50%;z-index: 0;}#sk-container-id-5 div.sk-serial {display: flex;flex-direction: column;align-items: center;background-color: white;padding-right: 0.2em;padding-left: 0.2em;position: relative;}#sk-container-id-5 div.sk-item {position: relative;z-index: 1;}#sk-container-id-5 div.sk-parallel {display: flex;align-items: stretch;justify-content: center;background-color: white;position: relative;}#sk-container-id-5 div.sk-item::before, #sk-container-id-5 div.sk-parallel-item::before {content: \"\";position: absolute;border-left: 1px solid gray;box-sizing: border-box;top: 0;bottom: 0;left: 50%;z-index: -1;}#sk-container-id-5 div.sk-parallel-item {display: flex;flex-direction: column;z-index: 1;position: relative;background-color: white;}#sk-container-id-5 div.sk-parallel-item:first-child::after {align-self: flex-end;width: 50%;}#sk-container-id-5 div.sk-parallel-item:last-child::after {align-self: flex-start;width: 50%;}#sk-container-id-5 div.sk-parallel-item:only-child::after {width: 0;}#sk-container-id-5 div.sk-dashed-wrapped {border: 1px dashed gray;margin: 0 0.4em 0.5em 0.4em;box-sizing: border-box;padding-bottom: 0.4em;background-color: white;}#sk-container-id-5 div.sk-label label {font-family: monospace;font-weight: bold;display: inline-block;line-height: 1.2em;}#sk-container-id-5 div.sk-label-container {text-align: center;}#sk-container-id-5 div.sk-container {/* jupyter's `normalize.less` sets `[hidden] { display: none; }` but bootstrap.min.css set `[hidden] { display: none !important; }` so we also need the `!important` here to be able to override the default hidden behavior on the sphinx rendered scikit-learn.org. See: https://github.com/scikit-learn/scikit-learn/issues/21755 */display: inline-block !important;position: relative;}#sk-container-id-5 div.sk-text-repr-fallback {display: none;}</style><div id=\"sk-container-id-5\" class=\"sk-top-container\"><div class=\"sk-text-repr-fallback\"><pre>KMeans(n_clusters=4)</pre><b>In a Jupyter environment, please rerun this cell to show the HTML representation or trust the notebook. <br />On GitHub, the HTML representation is unable to render, please try loading this page with nbviewer.org.</b></div><div class=\"sk-container\" hidden><div class=\"sk-item\"><div class=\"sk-estimator sk-toggleable\"><input class=\"sk-toggleable__control sk-hidden--visually\" id=\"sk-estimator-id-5\" type=\"checkbox\" checked><label for=\"sk-estimator-id-5\" class=\"sk-toggleable__label sk-toggleable__label-arrow\">KMeans</label><div class=\"sk-toggleable__content\"><pre>KMeans(n_clusters=4)</pre></div></div></div></div></div>"
      ],
      "text/plain": [
       "KMeans(n_clusters=4)"
      ]
     },
     "execution_count": 103,
     "metadata": {},
     "output_type": "execute_result"
    }
   ],
   "source": [
    "km.fit(data[0])"
   ]
  },
  {
   "cell_type": "code",
   "execution_count": null,
   "id": "25b19d20",
   "metadata": {},
   "outputs": [],
   "source": []
  },
  {
   "cell_type": "code",
   "execution_count": 104,
   "id": "819229a9",
   "metadata": {},
   "outputs": [
    {
     "data": {
      "text/plain": [
       "array([[-9.84190209, -2.0400914 ],\n",
       "       [-1.49667413,  5.670962  ],\n",
       "       [-4.54534001, -6.87318569],\n",
       "       [ 1.87830521, -6.55069721]])"
      ]
     },
     "execution_count": 104,
     "metadata": {},
     "output_type": "execute_result"
    }
   ],
   "source": [
    "km.cluster_centers_"
   ]
  },
  {
   "cell_type": "code",
   "execution_count": 105,
   "id": "25178192",
   "metadata": {},
   "outputs": [
    {
     "data": {
      "text/plain": [
       "array([0, 0, 1, 3, 2, 0, 3, 2, 0, 2, 2, 1, 3, 1, 2, 0, 0, 1, 0, 3, 2, 0,\n",
       "       2, 3, 2, 3, 1, 2, 2, 0, 1, 3, 3, 0, 1, 3, 2, 2, 0, 1, 3, 3, 2, 3,\n",
       "       1, 3, 0, 0, 3, 3, 0, 1, 3, 0, 2, 3, 3, 1, 0, 2, 0, 1, 1, 2, 0, 2,\n",
       "       3, 2, 3, 0, 0, 2, 1, 1, 2, 1, 3, 1, 1, 1, 2, 0, 1, 3, 2, 0, 1, 3,\n",
       "       0, 2, 1, 3, 1, 0, 0, 3, 0, 3, 1, 2, 1, 2, 3, 3, 0, 1, 3, 2, 0, 2,\n",
       "       2, 3, 1, 2, 2, 0, 0, 2, 3, 0, 0, 2, 1, 0, 1, 2, 1, 0, 3, 3, 2, 2,\n",
       "       0, 3, 1, 3, 1, 1, 3, 1, 0, 1, 0, 3, 3, 2, 1, 0, 3, 3, 2, 1, 3, 0,\n",
       "       0, 3, 1, 0, 1, 1, 0, 0, 2, 2, 2, 3, 2, 3, 1, 0, 2, 1, 1, 1, 2, 1,\n",
       "       1, 2, 2, 1, 3, 0, 2, 3, 3, 2, 2, 1, 3, 3, 2, 2, 3, 3, 3, 1, 0, 2,\n",
       "       0, 1])"
      ]
     },
     "execution_count": 105,
     "metadata": {},
     "output_type": "execute_result"
    }
   ],
   "source": [
    "km.labels_"
   ]
  },
  {
   "cell_type": "code",
   "execution_count": null,
   "id": "b7e12303",
   "metadata": {},
   "outputs": [],
   "source": []
  },
  {
   "cell_type": "code",
   "execution_count": 106,
   "id": "04940b4e",
   "metadata": {},
   "outputs": [
    {
     "data": {
      "text/plain": [
       "<matplotlib.collections.PathCollection at 0x27966613190>"
      ]
     },
     "execution_count": 106,
     "metadata": {},
     "output_type": "execute_result"
    },
    {
     "data": {
      "image/png": "[encoded data removed]",
      "text/plain": [
       "<Figure size 600x300 with 2 Axes>"
      ]
     },
     "metadata": {},
     "output_type": "display_data"
    }
   ],
   "source": [
    "f, (ax1, ax2) = plt.subplots(1,2, sharey=True, figsize=(6,3))\n",
    "\n",
    "ax1.set_title('k_means')\n",
    "ax1.scatter(data[0][:,0], data[0][:,1], c=km.labels_, cmap='rainbow')\n",
    "\n",
    "ax2.set_title('Original')\n",
    "ax2.scatter(data[0][:,0], data[0][:,1], c=data[1], cmap='rainbow')"
   ]
  },
  {
   "cell_type": "code",
   "execution_count": null,
   "id": "17ef5568",
   "metadata": {},
   "outputs": [],
   "source": []
  },
  {
   "cell_type": "code",
   "execution_count": null,
   "id": "3e2b8f48",
   "metadata": {},
   "outputs": [],
   "source": []
  }
 ],
 "metadata": {
  "kernelspec": {
   "display_name": "Python 3 (ipykernel)",
   "language": "python",
   "name": "python3"
  },
  "language_info": {
   "codemirror_mode": {
    "name": "ipython",
    "version": 3
   },
   "file_extension": ".py",
   "mimetype": "text/x-python",
   "name": "python",
   "nbconvert_exporter": "python",
   "pygments_lexer": "ipython3",
   "version": "3.9.12"
  }
 },
 "nbformat": 4,
 "nbformat_minor": 5
}
