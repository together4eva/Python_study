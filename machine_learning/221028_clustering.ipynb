{
 "cells": [
  {
   "cell_type": "code",
   "execution_count": 1,
   "id": "d531ca8a",
   "metadata": {},
   "outputs": [],
   "source": [
    "import mglearn   \n",
    "\n",
    "# 데이터분석 학습용 시각화...\n",
    "\n",
    "# conda install mglearn\n",
    "# pip install mglearn"
   ]
  },
  {
   "cell_type": "code",
   "execution_count": 2,
   "id": "0e40a124",
   "metadata": {},
   "outputs": [],
   "source": [
    "# mglearn.plots.plot_agglomerative_algorithm()\n",
    "\n",
    "from IPython.display import Image"
   ]
  },
  {
   "cell_type": "code",
   "execution_count": 3,
   "id": "268cadf4",
   "metadata": {},
   "outputs": [
    {
     "ename": "FileNotFoundError",
     "evalue": "No such file or directory: 'agglome.png'",
     "output_type": "error",
     "traceback": [
      "\u001b[1;31m---------------------------------------------------------------------------\u001b[0m",
      "\u001b[1;31mTypeError\u001b[0m                                 Traceback (most recent call last)",
      "File \u001b[1;32mD:\\ANACONDA\\lib\\site-packages\\IPython\\core\\display.py:1032\u001b[0m, in \u001b[0;36mImage._data_and_metadata\u001b[1;34m(self, always_both)\u001b[0m\n\u001b[0;32m   1031\u001b[0m \u001b[38;5;28;01mtry\u001b[39;00m:\n\u001b[1;32m-> 1032\u001b[0m     b64_data \u001b[38;5;241m=\u001b[39m \u001b[43mb2a_base64\u001b[49m\u001b[43m(\u001b[49m\u001b[38;5;28;43mself\u001b[39;49m\u001b[38;5;241;43m.\u001b[39;49m\u001b[43mdata\u001b[49m\u001b[43m)\u001b[49m\u001b[38;5;241m.\u001b[39mdecode(\u001b[38;5;124m'\u001b[39m\u001b[38;5;124mascii\u001b[39m\u001b[38;5;124m'\u001b[39m)\n\u001b[0;32m   1033\u001b[0m \u001b[38;5;28;01mexcept\u001b[39;00m \u001b[38;5;167;01mTypeError\u001b[39;00m \u001b[38;5;28;01mas\u001b[39;00m e:\n",
      "\u001b[1;31mTypeError\u001b[0m: a bytes-like object is required, not 'str'",
      "\nThe above exception was the direct cause of the following exception:\n",
      "\u001b[1;31mFileNotFoundError\u001b[0m                         Traceback (most recent call last)",
      "File \u001b[1;32mD:\\ANACONDA\\lib\\site-packages\\IPython\\core\\formatters.py:973\u001b[0m, in \u001b[0;36mMimeBundleFormatter.__call__\u001b[1;34m(self, obj, include, exclude)\u001b[0m\n\u001b[0;32m    970\u001b[0m     method \u001b[38;5;241m=\u001b[39m get_real_method(obj, \u001b[38;5;28mself\u001b[39m\u001b[38;5;241m.\u001b[39mprint_method)\n\u001b[0;32m    972\u001b[0m     \u001b[38;5;28;01mif\u001b[39;00m method \u001b[38;5;129;01mis\u001b[39;00m \u001b[38;5;129;01mnot\u001b[39;00m \u001b[38;5;28;01mNone\u001b[39;00m:\n\u001b[1;32m--> 973\u001b[0m         \u001b[38;5;28;01mreturn\u001b[39;00m \u001b[43mmethod\u001b[49m\u001b[43m(\u001b[49m\u001b[43minclude\u001b[49m\u001b[38;5;241;43m=\u001b[39;49m\u001b[43minclude\u001b[49m\u001b[43m,\u001b[49m\u001b[43m \u001b[49m\u001b[43mexclude\u001b[49m\u001b[38;5;241;43m=\u001b[39;49m\u001b[43mexclude\u001b[49m\u001b[43m)\u001b[49m\n\u001b[0;32m    974\u001b[0m     \u001b[38;5;28;01mreturn\u001b[39;00m \u001b[38;5;28;01mNone\u001b[39;00m\n\u001b[0;32m    975\u001b[0m \u001b[38;5;28;01melse\u001b[39;00m:\n",
      "File \u001b[1;32mD:\\ANACONDA\\lib\\site-packages\\IPython\\core\\display.py:1022\u001b[0m, in \u001b[0;36mImage._repr_mimebundle_\u001b[1;34m(self, include, exclude)\u001b[0m\n\u001b[0;32m   1020\u001b[0m \u001b[38;5;28;01mif\u001b[39;00m \u001b[38;5;28mself\u001b[39m\u001b[38;5;241m.\u001b[39membed:\n\u001b[0;32m   1021\u001b[0m     mimetype \u001b[38;5;241m=\u001b[39m \u001b[38;5;28mself\u001b[39m\u001b[38;5;241m.\u001b[39m_mimetype\n\u001b[1;32m-> 1022\u001b[0m     data, metadata \u001b[38;5;241m=\u001b[39m \u001b[38;5;28;43mself\u001b[39;49m\u001b[38;5;241;43m.\u001b[39;49m\u001b[43m_data_and_metadata\u001b[49m\u001b[43m(\u001b[49m\u001b[43malways_both\u001b[49m\u001b[38;5;241;43m=\u001b[39;49m\u001b[38;5;28;43;01mTrue\u001b[39;49;00m\u001b[43m)\u001b[49m\n\u001b[0;32m   1023\u001b[0m     \u001b[38;5;28;01mif\u001b[39;00m metadata:\n\u001b[0;32m   1024\u001b[0m         metadata \u001b[38;5;241m=\u001b[39m {mimetype: metadata}\n",
      "File \u001b[1;32mD:\\ANACONDA\\lib\\site-packages\\IPython\\core\\display.py:1034\u001b[0m, in \u001b[0;36mImage._data_and_metadata\u001b[1;34m(self, always_both)\u001b[0m\n\u001b[0;32m   1032\u001b[0m     b64_data \u001b[38;5;241m=\u001b[39m b2a_base64(\u001b[38;5;28mself\u001b[39m\u001b[38;5;241m.\u001b[39mdata)\u001b[38;5;241m.\u001b[39mdecode(\u001b[38;5;124m'\u001b[39m\u001b[38;5;124mascii\u001b[39m\u001b[38;5;124m'\u001b[39m)\n\u001b[0;32m   1033\u001b[0m \u001b[38;5;28;01mexcept\u001b[39;00m \u001b[38;5;167;01mTypeError\u001b[39;00m \u001b[38;5;28;01mas\u001b[39;00m e:\n\u001b[1;32m-> 1034\u001b[0m     \u001b[38;5;28;01mraise\u001b[39;00m \u001b[38;5;167;01mFileNotFoundError\u001b[39;00m(\n\u001b[0;32m   1035\u001b[0m         \u001b[38;5;124m\"\u001b[39m\u001b[38;5;124mNo such file or directory: \u001b[39m\u001b[38;5;124m'\u001b[39m\u001b[38;5;132;01m%s\u001b[39;00m\u001b[38;5;124m'\u001b[39m\u001b[38;5;124m\"\u001b[39m \u001b[38;5;241m%\u001b[39m (\u001b[38;5;28mself\u001b[39m\u001b[38;5;241m.\u001b[39mdata)) \u001b[38;5;28;01mfrom\u001b[39;00m \u001b[38;5;21;01me\u001b[39;00m\n\u001b[0;32m   1036\u001b[0m md \u001b[38;5;241m=\u001b[39m {}\n\u001b[0;32m   1037\u001b[0m \u001b[38;5;28;01mif\u001b[39;00m \u001b[38;5;28mself\u001b[39m\u001b[38;5;241m.\u001b[39mmetadata:\n",
      "\u001b[1;31mFileNotFoundError\u001b[0m: No such file or directory: 'agglome.png'"
     ]
    },
    {
     "ename": "FileNotFoundError",
     "evalue": "No such file or directory: 'agglome.png'",
     "output_type": "error",
     "traceback": [
      "\u001b[1;31m---------------------------------------------------------------------------\u001b[0m",
      "\u001b[1;31mTypeError\u001b[0m                                 Traceback (most recent call last)",
      "File \u001b[1;32mD:\\ANACONDA\\lib\\site-packages\\IPython\\core\\display.py:1032\u001b[0m, in \u001b[0;36mImage._data_and_metadata\u001b[1;34m(self, always_both)\u001b[0m\n\u001b[0;32m   1031\u001b[0m \u001b[38;5;28;01mtry\u001b[39;00m:\n\u001b[1;32m-> 1032\u001b[0m     b64_data \u001b[38;5;241m=\u001b[39m \u001b[43mb2a_base64\u001b[49m\u001b[43m(\u001b[49m\u001b[38;5;28;43mself\u001b[39;49m\u001b[38;5;241;43m.\u001b[39;49m\u001b[43mdata\u001b[49m\u001b[43m)\u001b[49m\u001b[38;5;241m.\u001b[39mdecode(\u001b[38;5;124m'\u001b[39m\u001b[38;5;124mascii\u001b[39m\u001b[38;5;124m'\u001b[39m)\n\u001b[0;32m   1033\u001b[0m \u001b[38;5;28;01mexcept\u001b[39;00m \u001b[38;5;167;01mTypeError\u001b[39;00m \u001b[38;5;28;01mas\u001b[39;00m e:\n",
      "\u001b[1;31mTypeError\u001b[0m: a bytes-like object is required, not 'str'",
      "\nThe above exception was the direct cause of the following exception:\n",
      "\u001b[1;31mFileNotFoundError\u001b[0m                         Traceback (most recent call last)",
      "File \u001b[1;32mD:\\ANACONDA\\lib\\site-packages\\IPython\\core\\formatters.py:343\u001b[0m, in \u001b[0;36mBaseFormatter.__call__\u001b[1;34m(self, obj)\u001b[0m\n\u001b[0;32m    341\u001b[0m     method \u001b[38;5;241m=\u001b[39m get_real_method(obj, \u001b[38;5;28mself\u001b[39m\u001b[38;5;241m.\u001b[39mprint_method)\n\u001b[0;32m    342\u001b[0m     \u001b[38;5;28;01mif\u001b[39;00m method \u001b[38;5;129;01mis\u001b[39;00m \u001b[38;5;129;01mnot\u001b[39;00m \u001b[38;5;28;01mNone\u001b[39;00m:\n\u001b[1;32m--> 343\u001b[0m         \u001b[38;5;28;01mreturn\u001b[39;00m \u001b[43mmethod\u001b[49m\u001b[43m(\u001b[49m\u001b[43m)\u001b[49m\n\u001b[0;32m    344\u001b[0m     \u001b[38;5;28;01mreturn\u001b[39;00m \u001b[38;5;28;01mNone\u001b[39;00m\n\u001b[0;32m    345\u001b[0m \u001b[38;5;28;01melse\u001b[39;00m:\n",
      "File \u001b[1;32mD:\\ANACONDA\\lib\\site-packages\\IPython\\core\\display.py:1054\u001b[0m, in \u001b[0;36mImage._repr_png_\u001b[1;34m(self)\u001b[0m\n\u001b[0;32m   1052\u001b[0m \u001b[38;5;28;01mdef\u001b[39;00m \u001b[38;5;21m_repr_png_\u001b[39m(\u001b[38;5;28mself\u001b[39m):\n\u001b[0;32m   1053\u001b[0m     \u001b[38;5;28;01mif\u001b[39;00m \u001b[38;5;28mself\u001b[39m\u001b[38;5;241m.\u001b[39membed \u001b[38;5;129;01mand\u001b[39;00m \u001b[38;5;28mself\u001b[39m\u001b[38;5;241m.\u001b[39mformat \u001b[38;5;241m==\u001b[39m \u001b[38;5;28mself\u001b[39m\u001b[38;5;241m.\u001b[39m_FMT_PNG:\n\u001b[1;32m-> 1054\u001b[0m         \u001b[38;5;28;01mreturn\u001b[39;00m \u001b[38;5;28;43mself\u001b[39;49m\u001b[38;5;241;43m.\u001b[39;49m\u001b[43m_data_and_metadata\u001b[49m\u001b[43m(\u001b[49m\u001b[43m)\u001b[49m\n",
      "File \u001b[1;32mD:\\ANACONDA\\lib\\site-packages\\IPython\\core\\display.py:1034\u001b[0m, in \u001b[0;36mImage._data_and_metadata\u001b[1;34m(self, always_both)\u001b[0m\n\u001b[0;32m   1032\u001b[0m     b64_data \u001b[38;5;241m=\u001b[39m b2a_base64(\u001b[38;5;28mself\u001b[39m\u001b[38;5;241m.\u001b[39mdata)\u001b[38;5;241m.\u001b[39mdecode(\u001b[38;5;124m'\u001b[39m\u001b[38;5;124mascii\u001b[39m\u001b[38;5;124m'\u001b[39m)\n\u001b[0;32m   1033\u001b[0m \u001b[38;5;28;01mexcept\u001b[39;00m \u001b[38;5;167;01mTypeError\u001b[39;00m \u001b[38;5;28;01mas\u001b[39;00m e:\n\u001b[1;32m-> 1034\u001b[0m     \u001b[38;5;28;01mraise\u001b[39;00m \u001b[38;5;167;01mFileNotFoundError\u001b[39;00m(\n\u001b[0;32m   1035\u001b[0m         \u001b[38;5;124m\"\u001b[39m\u001b[38;5;124mNo such file or directory: \u001b[39m\u001b[38;5;124m'\u001b[39m\u001b[38;5;132;01m%s\u001b[39;00m\u001b[38;5;124m'\u001b[39m\u001b[38;5;124m\"\u001b[39m \u001b[38;5;241m%\u001b[39m (\u001b[38;5;28mself\u001b[39m\u001b[38;5;241m.\u001b[39mdata)) \u001b[38;5;28;01mfrom\u001b[39;00m \u001b[38;5;21;01me\u001b[39;00m\n\u001b[0;32m   1036\u001b[0m md \u001b[38;5;241m=\u001b[39m {}\n\u001b[0;32m   1037\u001b[0m \u001b[38;5;28;01mif\u001b[39;00m \u001b[38;5;28mself\u001b[39m\u001b[38;5;241m.\u001b[39mmetadata:\n",
      "\u001b[1;31mFileNotFoundError\u001b[0m: No such file or directory: 'agglome.png'"
     ]
    },
    {
     "data": {
      "text/plain": [
       "<IPython.core.display.Image object>"
      ]
     },
     "execution_count": 3,
     "metadata": {},
     "output_type": "execute_result"
    }
   ],
   "source": [
    "Image('agglome.png')"
   ]
  },
  {
   "cell_type": "code",
   "execution_count": null,
   "id": "a67c63bd",
   "metadata": {},
   "outputs": [],
   "source": []
  },
  {
   "cell_type": "code",
   "execution_count": 4,
   "id": "fc93a3fc",
   "metadata": {},
   "outputs": [],
   "source": [
    "from sklearn.datasets import make_blobs\n",
    "\n",
    "x,y = make_blobs(n_samples = 150, \n",
    "                n_features = 2,\n",
    "                centers = 3,\n",
    "                cluster_std = 1.5,\n",
    "                shuffle=True,\n",
    "                random_state=111)"
   ]
  },
  {
   "cell_type": "code",
   "execution_count": 5,
   "id": "7a82bf78",
   "metadata": {},
   "outputs": [
    {
     "data": {
      "text/plain": [
       "array([[ 3.02502619, -6.64995621],\n",
       "       [ 1.78012164, -3.46392124],\n",
       "       [-3.96317034, -9.12684108],\n",
       "       [-1.13966036, -8.04047162],\n",
       "       [ 2.16089018, -4.9385737 ]])"
      ]
     },
     "execution_count": 5,
     "metadata": {},
     "output_type": "execute_result"
    }
   ],
   "source": [
    "x[:5]"
   ]
  },
  {
   "cell_type": "code",
   "execution_count": 6,
   "id": "33fce0cc",
   "metadata": {},
   "outputs": [
    {
     "data": {
      "text/plain": [
       "array([0, 0, 2, 2, 0])"
      ]
     },
     "execution_count": 6,
     "metadata": {},
     "output_type": "execute_result"
    }
   ],
   "source": [
    "y[:5]"
   ]
  },
  {
   "cell_type": "code",
   "execution_count": 7,
   "id": "86c5d5b9",
   "metadata": {},
   "outputs": [],
   "source": [
    "import matplotlib.pyplot as plt"
   ]
  },
  {
   "cell_type": "code",
   "execution_count": 8,
   "id": "1f017ea3",
   "metadata": {},
   "outputs": [
    {
     "data": {
      "text/plain": [
       "<matplotlib.collections.PathCollection at 0x2d60e2bb4f0>"
      ]
     },
     "execution_count": 8,
     "metadata": {},
     "output_type": "execute_result"
    },
    {
     "data": {
      "image/png": "[encoded data removed]",
      "text/plain": [
       "<Figure size 432x288 with 1 Axes>"
      ]
     },
     "metadata": {
      "needs_background": "light"
     },
     "output_type": "display_data"
    }
   ],
   "source": [
    "plt.scatter(x[:, 0], x[:, 1], c='white', marker='o', edgecolor='black', s=50)"
   ]
  },
  {
   "cell_type": "code",
   "execution_count": null,
   "id": "6580076d",
   "metadata": {},
   "outputs": [],
   "source": []
  },
  {
   "cell_type": "code",
   "execution_count": 9,
   "id": "25167a4f",
   "metadata": {},
   "outputs": [
    {
     "data": {
      "text/plain": [
       "array([1, 1, 0, 0, 1, 0, 1, 1, 2, 2, 1, 1, 2, 1, 2, 1, 1, 1, 0, 2, 2, 0,\n",
       "       0, 2, 1, 2, 2, 0, 2, 0, 2, 2, 0, 0, 1, 0, 1, 1, 2, 0, 1, 1, 1, 0,\n",
       "       1, 1, 1, 0, 2, 0, 1, 0, 1, 0, 2, 1, 0, 2, 0, 2, 2, 1, 1, 0, 0, 2,\n",
       "       0, 1, 0, 0, 0, 1, 0, 0, 2, 2, 2, 2, 2, 1, 0, 1, 2, 2, 0, 0, 2, 1,\n",
       "       0, 2, 1, 2, 2, 2, 0, 0, 1, 0, 1, 1, 0, 2, 1, 2, 0, 0, 2, 2, 0, 1,\n",
       "       2, 2, 0, 2, 0, 1, 1, 0, 1, 1, 2, 2, 1, 2, 1, 0, 2, 0, 0, 0, 2, 1,\n",
       "       1, 2, 2, 1, 2, 1, 0, 2, 2, 1, 0, 1, 0, 0, 2, 1, 0, 2])"
      ]
     },
     "execution_count": 9,
     "metadata": {},
     "output_type": "execute_result"
    }
   ],
   "source": [
    "from sklearn.cluster import KMeans\n",
    "\n",
    "km = KMeans(n_clusters = 3,   # 군집 수\n",
    "           init='random',     # 최초 중심점을 찍는 방법\n",
    "           max_iter=300,      # 최대 반복 횟수..\n",
    "           random_state=11)   # 동일한 결과가 나오도록 하는 seed값\n",
    "\n",
    "km.fit(x)\n",
    "y_km = km.predict(x)\n",
    "y_km"
   ]
  },
  {
   "cell_type": "code",
   "execution_count": 10,
   "id": "279d0cb5",
   "metadata": {},
   "outputs": [
    {
     "data": {
      "text/plain": [
       "array([[-4.23692972, -7.12879352],\n",
       "       [ 2.05701921, -6.47903349],\n",
       "       [-1.53262155,  5.64168246]])"
      ]
     },
     "execution_count": 10,
     "metadata": {},
     "output_type": "execute_result"
    }
   ],
   "source": [
    "km.cluster_centers_  # 중심점의 x, y 좌표"
   ]
  },
  {
   "cell_type": "code",
   "execution_count": 11,
   "id": "3df578b2",
   "metadata": {},
   "outputs": [
    {
     "data": {
      "text/plain": [
       "array([False, False,  True,  True, False,  True, False, False, False,\n",
       "       False, False, False, False, False, False, False, False, False,\n",
       "        True, False, False,  True,  True, False, False, False, False,\n",
       "        True, False,  True, False, False,  True,  True, False,  True,\n",
       "       False, False, False,  True, False, False, False,  True, False,\n",
       "       False, False,  True, False,  True, False,  True, False,  True,\n",
       "       False, False,  True, False,  True, False, False, False, False,\n",
       "        True,  True, False,  True, False,  True,  True,  True, False,\n",
       "        True,  True, False, False, False, False, False, False,  True,\n",
       "       False, False, False,  True,  True, False, False,  True, False,\n",
       "       False, False, False, False,  True,  True, False,  True, False,\n",
       "       False,  True, False, False, False,  True,  True, False, False,\n",
       "        True, False, False, False,  True, False,  True, False, False,\n",
       "        True, False, False, False, False, False, False, False,  True,\n",
       "       False,  True,  True,  True, False, False, False, False, False,\n",
       "       False, False, False,  True, False, False, False,  True, False,\n",
       "        True,  True, False, False,  True, False])"
      ]
     },
     "execution_count": 11,
     "metadata": {},
     "output_type": "execute_result"
    }
   ],
   "source": [
    "y_km==0"
   ]
  },
  {
   "cell_type": "code",
   "execution_count": 12,
   "id": "d4a58ceb",
   "metadata": {},
   "outputs": [
    {
     "data": {
      "image/png": "[encoded data removed]",
      "text/plain": [
       "<Figure size 432x288 with 1 Axes>"
      ]
     },
     "metadata": {
      "needs_background": "light"
     },
     "output_type": "display_data"
    }
   ],
   "source": [
    "plt.scatter(x[y_km==0, 0], x[y_km==0, 1], s=50, c='lightgreen', marker='s', \\\n",
    "            edgecolor='black', label='cluster 0')  # row bool indexing : cluster가 0인 row만 선택\n",
    "\n",
    "plt.scatter(x[y_km==1, 0], x[y_km==1, 1], s=50, c='orange', marker='o', \\\n",
    "            edgecolor='black', label='cluster 1')  # row bool indexing : cluster가 1인 row만 선택\n",
    "\n",
    "plt.scatter(x[y_km==2, 0], x[y_km==2, 1], s=50, c='lightblue', marker='v', \\\n",
    "            edgecolor='black', label='cluster 2')  # row bool indexing : cluster가 2인 row만 선택\n",
    "\n",
    "plt.scatter(km.cluster_centers_[:,0], km.cluster_centers_[:,1] , s=250, c='red', marker='*', \\\n",
    "            edgecolor='black', label='center points')  \n",
    "\n",
    "plt.legend(scatterpoints=1, loc=0)\n",
    "plt.grid()\n",
    "plt.tight_layout()\n",
    "plt.show()\n"
   ]
  },
  {
   "cell_type": "code",
   "execution_count": null,
   "id": "e4e06ac0",
   "metadata": {},
   "outputs": [],
   "source": []
  },
  {
   "cell_type": "code",
   "execution_count": 13,
   "id": "0f936109",
   "metadata": {},
   "outputs": [],
   "source": [
    "# cluster의 갯수 : hyper parameter로 분석가의 필요에 따라 설정.. 절대적 기준은 없다..\n",
    "\n",
    "# inertia\n",
    "# cluster모델의 대략적인 평가 지표..\n",
    "# cluster 내부에 데이터들이 얼마나 촘촘히 뭉쳐있는지를 계산하는 값..\n",
    "# cluster 내 데이터들의 std를 계산\n",
    "# 보조적인 지표\n",
    "# cluster 숫자를 늘이면 inertia값은 자동으로 감소.."
   ]
  },
  {
   "cell_type": "code",
   "execution_count": 14,
   "id": "7e01cda6",
   "metadata": {},
   "outputs": [
    {
     "data": {
      "text/plain": [
       "621.0835498986672"
      ]
     },
     "execution_count": 14,
     "metadata": {},
     "output_type": "execute_result"
    }
   ],
   "source": [
    "km.inertia_"
   ]
  },
  {
   "cell_type": "code",
   "execution_count": null,
   "id": "aadcf8ec",
   "metadata": {},
   "outputs": [],
   "source": []
  },
  {
   "cell_type": "code",
   "execution_count": 15,
   "id": "a163ce66",
   "metadata": {},
   "outputs": [],
   "source": [
    "# inertia를 통한 최적의 cluster 갯수를 찾기.."
   ]
  },
  {
   "cell_type": "code",
   "execution_count": 16,
   "id": "79205744",
   "metadata": {},
   "outputs": [],
   "source": [
    "import warnings\n",
    "warnings.filterwarnings(action='ignore')"
   ]
  },
  {
   "cell_type": "code",
   "execution_count": 17,
   "id": "c56977b3",
   "metadata": {},
   "outputs": [
    {
     "data": {
      "image/png": "[encoded data removed]",
      "text/plain": [
       "<Figure size 360x216 with 1 Axes>"
      ]
     },
     "metadata": {
      "needs_background": "light"
     },
     "output_type": "display_data"
    }
   ],
   "source": [
    "distortions = []\n",
    "\n",
    "for i in range(1, 11):\n",
    "    km = KMeans(n_clusters = i,\n",
    "               init='random',\n",
    "               random_state=111)\n",
    "    km.fit(x)\n",
    "    distortions.append(km.inertia_)  # 군집 내 데이터의 뭉쳐진 수준 (std)\n",
    "    \n",
    "plt.figure(figsize=(5,3))\n",
    "plt.plot(range(1,11), distortions, marker='o')\n",
    "plt.show()\n",
    "\n",
    "# cluster 3개로 나누면 더 이상 나누어도 inertia값이 감소하지 않는다..\n",
    "# cluster 3개로 나누면 데이터는 충분히 clustering이 된다 - 유사한 데이터를 효윯적으로 묶는다.."
   ]
  },
  {
   "cell_type": "code",
   "execution_count": null,
   "id": "867405ed",
   "metadata": {},
   "outputs": [],
   "source": []
  },
  {
   "cell_type": "code",
   "execution_count": 18,
   "id": "c5977e4c",
   "metadata": {},
   "outputs": [],
   "source": [
    "# silhouette\n",
    "\n",
    "# inertia보다 더 정교하게 cluster를 평가하는 지표.. 절대지표는 존재하지 않는다.. 보조지표..\n",
    "# 군집 내의 데이터들이 얼마나 결합력있게 그룹핑이 되어 있는가..\n",
    "# 군집 내의 샘플들 간의 거리 - a\n",
    "# 군집 간의 샘플들 간의 거리 - b\n",
    "# silhouette = (b-a)/max(a,b) , 클수록 좋은 군집..\n",
    "# 군잽 내에서는 데이터들 간의 거리가 가깝고, 군집 간에는 데이터들의 거리가 멀수록 좋은 모델이다.."
   ]
  },
  {
   "cell_type": "code",
   "execution_count": null,
   "id": "db304344",
   "metadata": {},
   "outputs": [],
   "source": []
  },
  {
   "cell_type": "code",
   "execution_count": 19,
   "id": "cbc829c5",
   "metadata": {},
   "outputs": [],
   "source": [
    "from sklearn.metrics import silhouette_samples\n",
    "from matplotlib import cm"
   ]
  },
  {
   "cell_type": "code",
   "execution_count": 20,
   "id": "c15f813a",
   "metadata": {},
   "outputs": [
    {
     "data": {
      "text/plain": [
       "array([2, 2, 0, 0, 2, 0, 2, 2, 1, 1, 2, 2, 1, 2, 1, 2, 2, 2, 0, 1, 1, 0,\n",
       "       0, 1, 2, 1, 1, 0, 1, 0, 1, 1, 0, 0, 2, 0, 2, 2, 1, 0, 2, 2, 2, 0,\n",
       "       2, 2, 2, 0, 1, 0, 2, 0, 2, 0, 1, 2, 0, 1, 0, 1, 1, 2, 2, 0, 0, 1,\n",
       "       0, 2, 0, 0, 0, 2, 0, 0, 1, 1, 1, 1, 1, 2, 0, 2, 1, 1, 0, 0, 1, 2,\n",
       "       0, 1, 2, 1, 1, 1, 0, 0, 2, 0, 2, 2, 0, 1, 2, 1, 0, 0, 1, 1, 0, 2,\n",
       "       1, 1, 0, 1, 0, 2, 2, 0, 2, 2, 1, 1, 2, 1, 2, 0, 1, 0, 0, 0, 1, 2,\n",
       "       2, 1, 1, 2, 1, 2, 0, 1, 1, 2, 0, 2, 0, 0, 1, 2, 0, 1])"
      ]
     },
     "execution_count": 20,
     "metadata": {},
     "output_type": "execute_result"
    }
   ],
   "source": [
    "km = KMeans(n_clusters = 3,\n",
    "           init = 'k-means++', \n",
    "           random_state=111)\n",
    "# km.fit(x)\n",
    "# y_km = km.predict(x)\n",
    "y_km = km.fit_predict(x)\n",
    "y_km\n",
    "\n",
    "# k-means++ : k-means의 upgrade version,\n",
    "# k-means : 초기에 중심점을 random하게 지정 - 중심점이 뭉쳐지는 경우 학습이 잘 안됨..\n",
    "# k-means++ : 초기 중심점을 서로 떨어지도록 지정 - 더 효율적으로 빠르게 clustering을 수행"
   ]
  },
  {
   "cell_type": "code",
   "execution_count": null,
   "id": "362f882f",
   "metadata": {},
   "outputs": [],
   "source": []
  },
  {
   "cell_type": "code",
   "execution_count": 21,
   "id": "e839804b",
   "metadata": {},
   "outputs": [
    {
     "data": {
      "text/plain": [
       "array([0.72678562, 0.52168964, 0.60619074, 0.08649779, 0.65583527,\n",
       "       0.73177957, 0.70023017, 0.6593154 , 0.7519256 , 0.81257245,\n",
       "       0.69951279, 0.48040552, 0.80370943, 0.69599532, 0.56923683,\n",
       "       0.72005179, 0.56749871, 0.6402353 , 0.59002747, 0.81759747,\n",
       "       0.77467314, 0.6570059 , 0.69379868, 0.80958266, 0.64805824,\n",
       "       0.70500658, 0.81248816, 0.11749307, 0.81450808, 0.71285961,\n",
       "       0.82917199, 0.75391019, 0.70931592, 0.68662012, 0.46012099,\n",
       "       0.73345773, 0.48504612, 0.6654153 , 0.73040954, 0.55066749,\n",
       "       0.72265026, 0.7276097 , 0.51849011, 0.53373745, 0.3154189 ,\n",
       "       0.41123078, 0.5362938 , 0.52567916, 0.76952939, 0.48931493,\n",
       "       0.33752315, 0.41896696, 0.4747681 , 0.65880566, 0.75016455,\n",
       "       0.68553385, 0.72877362, 0.77581622, 0.61126431, 0.75053793,\n",
       "       0.83933949, 0.55734145, 0.68310549, 0.64125439, 0.4469979 ,\n",
       "       0.82268711, 0.63072105, 0.48476211, 0.40625107, 0.73752268,\n",
       "       0.71374958, 0.40316451, 0.6915561 , 0.74430546, 0.83677014,\n",
       "       0.82065985, 0.77629756, 0.67761508, 0.82259238, 0.72621233,\n",
       "       0.52755302, 0.60223456, 0.8337835 , 0.83695144, 0.71263451,\n",
       "       0.71422327, 0.73929051, 0.67742113, 0.64403496, 0.81720479,\n",
       "       0.56529834, 0.84364873, 0.75445668, 0.79948931, 0.62137519,\n",
       "       0.67790875, 0.71157032, 0.73806985, 0.07482131, 0.72227085,\n",
       "       0.61853097, 0.77492968, 0.70757822, 0.84887519, 0.73828303,\n",
       "       0.14058915, 0.70395193, 0.60033403, 0.70104911, 0.66501516,\n",
       "       0.80413018, 0.7806271 , 0.68218168, 0.79320224, 0.71571603,\n",
       "       0.71946777, 0.72586821, 0.73782848, 0.68800977, 0.21432068,\n",
       "       0.82501664, 0.82994369, 0.58402256, 0.84820221, 0.4233494 ,\n",
       "       0.6778791 , 0.74434319, 0.3634455 , 0.52675814, 0.72353317,\n",
       "       0.84311434, 0.67538582, 0.69602201, 0.78438026, 0.84681867,\n",
       "       0.57706446, 0.83074083, 0.67552228, 0.33822124, 0.8453632 ,\n",
       "       0.7976526 , 0.57958505, 0.70246674, 0.63704093, 0.71489313,\n",
       "       0.73662858, 0.74231211, 0.68622754, 0.6205148 , 0.62593708])"
      ]
     },
     "execution_count": 21,
     "metadata": {},
     "output_type": "execute_result"
    }
   ],
   "source": [
    "silhouette_vals = silhouette_samples(x, y_km)\n",
    "silhouette_vals   \n",
    "\n",
    "# 모든 데이터들의 silhouette 값을 출력.."
   ]
  },
  {
   "cell_type": "code",
   "execution_count": 22,
   "id": "211efd60",
   "metadata": {},
   "outputs": [
    {
     "data": {
      "text/plain": [
       "150"
      ]
     },
     "execution_count": 22,
     "metadata": {},
     "output_type": "execute_result"
    }
   ],
   "source": [
    "len(silhouette_vals)"
   ]
  },
  {
   "cell_type": "code",
   "execution_count": 23,
   "id": "3a9d95ed",
   "metadata": {},
   "outputs": [],
   "source": [
    "import numpy as np"
   ]
  },
  {
   "cell_type": "code",
   "execution_count": 24,
   "id": "c55be898",
   "metadata": {},
   "outputs": [
    {
     "data": {
      "text/plain": [
       "0.6591255456301656"
      ]
     },
     "execution_count": 24,
     "metadata": {},
     "output_type": "execute_result"
    }
   ],
   "source": [
    "# 1. 현 cluster의 silhouette점수 - 모든 데이터들의 silhouette점수들의 평균\n",
    "\n",
    "np.mean(silhouette_vals)"
   ]
  },
  {
   "cell_type": "code",
   "execution_count": null,
   "id": "5b6bd095",
   "metadata": {},
   "outputs": [],
   "source": []
  },
  {
   "cell_type": "code",
   "execution_count": 25,
   "id": "ba264946",
   "metadata": {},
   "outputs": [],
   "source": [
    "# 2. 시각화를 통해서 클러스터 간의 데이터들의 silhouette 분포를 확인.. - 클러스터 간의 비교\n",
    "\n",
    "# - 각 클러스터의 데이터들의 silhouette값의 분포가 균등하면 적절한 clustering..\n",
    "# - 각 클러스터의 데이터들의 silhouette값의 분포가 불균등하면 비효율적으로 clustering."
   ]
  },
  {
   "cell_type": "code",
   "execution_count": null,
   "id": "d7eccb6e",
   "metadata": {},
   "outputs": [],
   "source": []
  },
  {
   "cell_type": "code",
   "execution_count": 26,
   "id": "39fe1682",
   "metadata": {},
   "outputs": [
    {
     "data": {
      "text/plain": [
       "array([False, False,  True,  True, False,  True, False, False, False,\n",
       "       False, False, False, False, False, False, False, False, False,\n",
       "        True, False, False,  True,  True, False, False, False, False,\n",
       "        True, False,  True, False, False,  True,  True, False,  True,\n",
       "       False, False, False,  True, False, False, False,  True, False,\n",
       "       False, False,  True, False,  True, False,  True, False,  True,\n",
       "       False, False,  True, False,  True, False, False, False, False,\n",
       "        True,  True, False,  True, False,  True,  True,  True, False,\n",
       "        True,  True, False, False, False, False, False, False,  True,\n",
       "       False, False, False,  True,  True, False, False,  True, False,\n",
       "       False, False, False, False,  True,  True, False,  True, False,\n",
       "       False,  True, False, False, False,  True,  True, False, False,\n",
       "        True, False, False, False,  True, False,  True, False, False,\n",
       "        True, False, False, False, False, False, False, False,  True,\n",
       "       False,  True,  True,  True, False, False, False, False, False,\n",
       "       False, False, False,  True, False, False, False,  True, False,\n",
       "        True,  True, False, False,  True, False])"
      ]
     },
     "execution_count": 26,
     "metadata": {},
     "output_type": "execute_result"
    }
   ],
   "source": [
    "y_km == 0"
   ]
  },
  {
   "cell_type": "code",
   "execution_count": 27,
   "id": "80ea211c",
   "metadata": {},
   "outputs": [
    {
     "data": {
      "image/png": "[encoded data removed]",
      "text/plain": [
       "<Figure size 432x288 with 1 Axes>"
      ]
     },
     "metadata": {
      "needs_background": "light"
     },
     "output_type": "display_data"
    }
   ],
   "source": [
    "y_ax_lower, y_ax_upper = 0, 0\n",
    "cluster_labels = np.unique(y_km)\n",
    "n_clusters = cluster_labels.shape[0]\n",
    "\n",
    "clist = ['g','b','y']\n",
    "\n",
    "for i, c in enumerate(cluster_labels):\n",
    "    c_silhouette_vals = silhouette_vals[y_km == c]  # boolean indexing : 해당 cluster의 silhouette값만\n",
    "    c_silhouette_vals.sort()  # silhouette값을 올림차순 정렬\n",
    "    y_ax_upper += len(c_silhouette_vals)  # bar chart upper값을 수정\n",
    "    \n",
    "    plt.barh(range(y_ax_lower, y_ax_upper), c_silhouette_vals, height=1.0,  # 수평 barchart그린다..\n",
    "            edgecolor='none', color=clist[i])\n",
    "    \n",
    "    y_ax_lower += len(c_silhouette_vals)  # bar chart lower값을 수정\n",
    "    \n",
    "silhouette_avg = np.mean(silhouette_vals)\n",
    "plt.axvline(silhouette_avg, color='red', linestyle='--')\n",
    "plt.show()"
   ]
  },
  {
   "cell_type": "code",
   "execution_count": null,
   "id": "2b9d8e44",
   "metadata": {},
   "outputs": [],
   "source": []
  },
  {
   "cell_type": "code",
   "execution_count": 29,
   "id": "93c32b84",
   "metadata": {},
   "outputs": [
    {
     "data": {
      "image/png": "[encoded data removed]",
      "text/plain": [
       "<Figure size 432x288 with 1 Axes>"
      ]
     },
     "metadata": {
      "needs_background": "light"
     },
     "output_type": "display_data"
    },
    {
     "name": "stdout",
     "output_type": "stream",
     "text": [
      "0.6591255456301656\n"
     ]
    }
   ],
   "source": [
    "km =KMeans(n_clusters=3,\n",
    "          init='random')\n",
    "\n",
    "y_km = km.fit_predict(x)\n",
    "\n",
    "y_ax_lower, y_ax_upper = 0, 0\n",
    "cluster_labels = np.unique(y_km)\n",
    "n_clusters = cluster_labels.shape[0]\n",
    "\n",
    "silhouette_vals = silhouette_samples(x, y_km)\n",
    "\n",
    "clist = ['g','b','y', 'r']\n",
    "\n",
    "for i, c in enumerate(cluster_labels):\n",
    "    c_silhouette_vals = silhouette_vals[y_km == c]  # boolean indexing : 해당 cluster의 silhouette값만\n",
    "    c_silhouette_vals.sort()  # silhouette값을 올림차순 정렬\n",
    "    y_ax_upper += len(c_silhouette_vals)  # bar chart upper값을 수정\n",
    "    \n",
    "    plt.barh(range(y_ax_lower, y_ax_upper), c_silhouette_vals, height=1.0,  # 수평 barchart그린다..\n",
    "            edgecolor='none', color=clist[i])\n",
    "    \n",
    "    y_ax_lower += len(c_silhouette_vals)  # bar chart lower값을 수정\n",
    "    \n",
    "silhouette_avg = np.mean(silhouette_vals)\n",
    "plt.axvline(silhouette_avg, color='red', linestyle='--')\n",
    "plt.show()\n",
    "\n",
    "print(silhouette_avg)"
   ]
  },
  {
   "cell_type": "code",
   "execution_count": null,
   "id": "c2ed9a95",
   "metadata": {},
   "outputs": [],
   "source": []
  },
  {
   "cell_type": "code",
   "execution_count": null,
   "id": "58a57ac3",
   "metadata": {},
   "outputs": [],
   "source": []
  },
  {
   "cell_type": "code",
   "execution_count": null,
   "id": "f2105681",
   "metadata": {},
   "outputs": [],
   "source": []
  },
  {
   "cell_type": "code",
   "execution_count": null,
   "id": "06df6c28",
   "metadata": {},
   "outputs": [],
   "source": []
  },
  {
   "cell_type": "code",
   "execution_count": null,
   "id": "77831156",
   "metadata": {},
   "outputs": [],
   "source": []
  },
  {
   "cell_type": "code",
   "execution_count": null,
   "id": "e1630cb0",
   "metadata": {},
   "outputs": [],
   "source": []
  },
  {
   "cell_type": "code",
   "execution_count": null,
   "id": "864f61f3",
   "metadata": {},
   "outputs": [],
   "source": []
  },
  {
   "cell_type": "code",
   "execution_count": null,
   "id": "5867e523",
   "metadata": {},
   "outputs": [],
   "source": []
  },
  {
   "cell_type": "code",
   "execution_count": null,
   "id": "28459ea1",
   "metadata": {},
   "outputs": [],
   "source": []
  },
  {
   "cell_type": "code",
   "execution_count": null,
   "id": "1d9c9536",
   "metadata": {},
   "outputs": [],
   "source": []
  },
  {
   "cell_type": "code",
   "execution_count": null,
   "id": "3ff4fac3",
   "metadata": {},
   "outputs": [],
   "source": []
  },
  {
   "cell_type": "code",
   "execution_count": null,
   "id": "7f04b1e9",
   "metadata": {},
   "outputs": [],
   "source": []
  },
  {
   "cell_type": "code",
   "execution_count": null,
   "id": "8bcdf54b",
   "metadata": {},
   "outputs": [],
   "source": []
  },
  {
   "cell_type": "code",
   "execution_count": null,
   "id": "8e6be60f",
   "metadata": {},
   "outputs": [],
   "source": []
  },
  {
   "cell_type": "code",
   "execution_count": null,
   "id": "14a0eb30",
   "metadata": {},
   "outputs": [],
   "source": []
  },
  {
   "cell_type": "code",
   "execution_count": null,
   "id": "35c97ac5",
   "metadata": {},
   "outputs": [],
   "source": []
  },
  {
   "cell_type": "code",
   "execution_count": null,
   "id": "2f73d8c5",
   "metadata": {},
   "outputs": [],
   "source": []
  },
  {
   "cell_type": "code",
   "execution_count": null,
   "id": "b70aeb16",
   "metadata": {},
   "outputs": [],
   "source": []
  },
  {
   "cell_type": "code",
   "execution_count": null,
   "id": "0ee984d3",
   "metadata": {},
   "outputs": [],
   "source": []
  },
  {
   "cell_type": "code",
   "execution_count": null,
   "id": "86b71054",
   "metadata": {},
   "outputs": [],
   "source": []
  },
  {
   "cell_type": "code",
   "execution_count": null,
   "id": "c4d7fabf",
   "metadata": {},
   "outputs": [],
   "source": []
  },
  {
   "cell_type": "code",
   "execution_count": null,
   "id": "2ffbcac8",
   "metadata": {},
   "outputs": [],
   "source": []
  }
 ],
 "metadata": {
  "kernelspec": {
   "display_name": "Python 3 (ipykernel)",
   "language": "python",
   "name": "python3"
  },
  "language_info": {
   "codemirror_mode": {
    "name": "ipython",
    "version": 3
   },
   "file_extension": ".py",
   "mimetype": "text/x-python",
   "name": "python",
   "nbconvert_exporter": "python",
   "pygments_lexer": "ipython3",
   "version": "3.9.12"
  }
 },
 "nbformat": 4,
 "nbformat_minor": 5
}
